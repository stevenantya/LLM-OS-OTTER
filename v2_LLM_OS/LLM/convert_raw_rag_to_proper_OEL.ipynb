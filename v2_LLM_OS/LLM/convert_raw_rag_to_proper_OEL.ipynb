{
 "cells": [
  {
   "cell_type": "markdown",
   "metadata": {},
   "source": [
    "NEW_SENSOR = MCP9808;PROTOCOL = I2C;SENSOR_ADDR = 0x18;INIT_CMD = ();NEW_SENSOR_READ;READ_CMD = ());DATA_LEN = 2;DATA_KEY_VAL = (0: \"TEMP\");DATA_FORMAT = (0: [0:15]);SCALE_FORMAT = (0: \"X 4 >> X 16 % 0.0625 * +\");\n",
    "\n",
    "NEW_SENSOR = SHT31;PROTOCOL = I2C;SENSOR_ADDR = 0x44;INIT_CMD = ();NEW_SENSOR_READ;READ_CMD = ();DATA_LEN = 6;DATA_KEY_VAL = (0: \"TEMP\", 1: \"HUM\");DATA_FORMAT = (0: [0:15], 1: [24:39]);SCALE_FORMAT = (0: \"X 175 * 65535 / -45 +\", Humidity: \"X 100 * 65535 /\");\n",
    "I received Temp:45, Hum:100\n",
    "\n",
    "NEW_SENSOR = TMP102;PROTOCOL = I2C;SENSOR_ADDR = 0x48;INIT_CMD = ();NEW_SENSOR_READ;READ_CMD = ();DATA_LEN = 6;DATA_KEY_VAL = (0: \"TEMP\");DATA_FORMAT = (0: [4:15]);SCALE_FORMAT = (0: \"X X 11 >> 4096 * - 16 /\");\n",
    "TEMP = -2731.00\n",
    "\n",
    "NEW_SENSOR = GY_BMP280;PROTOCOL = I2C;SENSOR_ADDR = 0x76;INIT_CMD = (0xB6, 0x27, 0xA0);NEW_SENSOR_READ;READ_CMD = ();DATA_LEN = 6;DATA_KEY_VAL = (0: \"PRES\", 1: \"TEMP\");DATA_FORMAT = (0: [0:19], 1: [24:43]);SCALE_FORMAT = (0: \"X 4 >> 1048576 % 0.1 * 50 +\", 1: \"X 4 >> 1048576 % 0.01 * 40 -\");\n",
    "RECEIVED NOTHING\n",
    "\n",
    "NEW_SENSOR = MPL3115A2;PROTOCOL = I2C;SENSOR_ADDR = 0x60;INIT_CMD = ();NEW_SENSOR_READ;READ_CMD = (0xC1);DATA_LEN = 5;DATA_KEY_VAL = (0: \"altitude\", 1: \"temperature\");DATA_FORMAT = (0: [0:19], 1: [20:31]);SCALE_FORMAT = (0: \"X 4 >> X 16 % 16.0 / + X 19 >> 1 & 65536 * -\", 1: \"X 4 >> X 16 % 16.0 / + X 11 >> 1 & 256 * -\");\n",
    "Running Sensor Thread: MPL3115A2\n",
    "altitude = -65535.75\n",
    "temperature = -255.75\n",
    "\n"
   ]
  },
  {
   "cell_type": "markdown",
   "metadata": {},
   "source": [
    "NEW_SENSOR = AHT20;PROTOCOL = I2C;SENSOR_ADDR = 0x38;INIT_CMD = (0xBE, 0x08, 0x00);NEW_SENSOR_READ;READ_CMD = ();DATA_LEN = 6;DATA_KEY_VAL = (0: \"HUM\", 1: \"TEMP\");DATA_FORMAT = (0: [12:31], 1: [28:47]);SCALE_FORMAT = (0: \"X 100.0 * 1048576.0 /\", 1: \"X 200.0 * 1048576.0 / 50.0 -\");\n",
    "===== Sensor Configuration =====\n",
    "Sensor Name: AHT20\n",
    "Protocol: I2C\n",
    "I2C Address: 0x38\n",
    "Wakeup Command (3 bytes): 0xBE, 0x08, 0x00\n",
    "Read Command (0 bytes): \n",
    "Incoming Data Length: 6\n",
    "Data Keys and Formats:\n",
    "  0: \"HUM\" | Bits [12:31] | Scale: X 100.0 * 1048576.0 /\n",
    "  1: \"TEMP\" | Bits [28:47] | Scale: X 200.0 * 1048576.0 / 50.0 –\n",
    "===============================\n",
    "Running Sensor Thread: AHT20\n",
    "187C1325F4ED\n",
    "-----------Received Data--------187C1325F4ED\n",
    "Final Extracted Value: dec= 791333  hex= C1325\n",
    "HUM = 75.47\n",
    "Final Extracted Value: dec= 390381  hex= 5F4ED\n",
    "TEMP = 74.46\n",
    "\n",
    "\n",
    "\n",
    "Temperature: 24.43 °C\n",
    "Humidity: 76.81 %\n",
    "187C45F5F41FStart of debugging -------\n",
    "Dec= 804341\n",
    "Hex= C45F5\n",
    " \n",
    "Dec = 390175\n",
    "Hex = 5F41F"
   ]
  },
  {
   "cell_type": "markdown",
   "metadata": {},
   "source": []
  }
 ],
 "metadata": {
  "language_info": {
   "name": "python"
  }
 },
 "nbformat": 4,
 "nbformat_minor": 2
}
