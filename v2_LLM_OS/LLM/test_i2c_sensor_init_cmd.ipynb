{
 "cells": [
  {
   "cell_type": "code",
   "execution_count": 21,
   "metadata": {},
   "outputs": [],
   "source": [
    "# Imports\n",
    "from langchain_community.vectorstores import FAISS\n",
    "from langchain_openai import OpenAIEmbeddings\n",
    "from langchain.chains import create_retrieval_chain\n",
    "from langchain_openai import ChatOpenAI\n",
    "from langchain.chains.combine_documents import create_stuff_documents_chain\n",
    "from langchain_core.prompts import ChatPromptTemplate\n",
    "from  langchain_community.document_loaders import PyMuPDFLoader\n",
    "from langchain.text_splitter import RecursiveCharacterTextSplitter\n",
    "import getpass\n",
    "import os\n",
    "from dotenv import load_dotenv\n",
    "from langchain.chat_models import init_chat_model\n",
    "from langchain_core.messages import HumanMessage, SystemMessage\n",
    "from duckduckgo_search import DDGS\n",
    "import requests\n",
    "import streamlit as st\n",
    "import pymupdf\n",
    "\n",
    "import logging\n",
    "# Set up logging configuration\n",
    "logging.basicConfig(\n",
    "    level=logging.WARNING,\n",
    "    format='%(asctime)s - %(levelname)s - %(message)s',\n",
    "    handlers=[\n",
    "        logging.FileHandler('partition_pdf.log'),  # write logs to partition_pdf.log file\n",
    "        logging.StreamHandler()                    # also print logs to console\n",
    "    ]\n",
    ")\n",
    "\n",
    "load_dotenv()\n",
    "if not os.environ.get(\"OPENAI_API_KEY\"):\n",
    "    os.environ[\"OPENAI_API_KEY\"] = getpass.getpass(\"Enter your OpenAI API Key: \")\n",
    "model = init_chat_model(\"o3-mini\", model_provider=\"openai\")\n",
    "\n",
    "\n"
   ]
  },
  {
   "cell_type": "code",
   "execution_count": 22,
   "metadata": {},
   "outputs": [],
   "source": [
    "sensor_name = \"MCP9808\""
   ]
  },
  {
   "cell_type": "code",
   "execution_count": 23,
   "metadata": {},
   "outputs": [
    {
     "name": "stdout",
     "output_type": "stream",
     "text": [
      "Datasheet URL: https://cdn-shop.adafruit.com/datasheets/MCP9808.pdf\n",
      "Downloading datasheet...\n",
      "Datasheet already exists in the database.\n",
      "Loading datasheet...\n",
      "Datasheet loaded!\n"
     ]
    }
   ],
   "source": [
    "# Find and download sensor datasheet\n",
    "\n",
    "search_query = f\"{sensor_name} datasheet filetype:pdf\"\n",
    "search_results = DDGS().text(search_query)\n",
    "if search_results:\n",
    "    datasheet_url = search_results[0]['href']\n",
    "    print(f\"Datasheet URL: {datasheet_url}\")\n",
    "    print(\"Downloading datasheet...\")\n",
    "    response = requests.get(datasheet_url)\n",
    "    if response.status_code == 200:\n",
    "        if not os.path.exists(f\"/home/steven/FYP/v2_LLM_OS/LLM/Datasheet_DB/{sensor_name}.pdf\"):     \n",
    "            with open(f\"/home/steven/FYP/v2_LLM_OS/LLM/Datasheet_DB/{sensor_name}.pdf\", \"wb\") as file:\n",
    "                for chunk in response.iter_content(1024):\n",
    "                    file.write(chunk)\n",
    "            print(\"Datasheet downloaded!\")\n",
    "        else:\n",
    "            print(\"Datasheet already exists in the database.\")\n",
    "    print(\"Loading datasheet...\")\n",
    "    datasheet_path = f\"/home/steven/FYP/v2_LLM_OS/LLM/Datasheet_DB/{sensor_name}.pdf\"\n",
    "    print(\"Datasheet loaded!\")\n",
    "else:\n",
    "    print(\"No datasheet found for this I2C sensor.\")"
   ]
  },
  {
   "cell_type": "code",
   "execution_count": 24,
   "metadata": {},
   "outputs": [
    {
     "name": "stdout",
     "output_type": "stream",
     "text": [
      "Datasheet partition exists. Loaded from local file\n",
      "213\n"
     ]
    }
   ],
   "source": [
    "# Load and partition the datasheet into elements\n",
    "# 5 levels of partitioning\n",
    "import pymupdf4llm\n",
    "import pathlib\n",
    "from langchain_text_splitters import RecursiveCharacterTextSplitter, MarkdownTextSplitter\n",
    "from langchain_community.document_loaders import UnstructuredMarkdownLoader\n",
    "from langchain_core.documents import Document\n",
    "\n",
    "md_path = f\"/home/steven/FYP/v2_LLM_OS/LLM/MD_DB/md_{sensor_name}.md\"\n",
    "if not os.path.exists(md_path):\n",
    "    md_text = pymupdf4llm.to_markdown(datasheet_path)\n",
    "    pathlib.Path(md_path).write_bytes(md_text.encode())\n",
    "    print(\"Datasheet Partition does not exist. Created a new parition\")\n",
    "else:\n",
    "    md_text = pathlib.Path(md_path).read_text()\n",
    "    print(\"Datasheet partition exists. Loaded from local file\")\n",
    "\n",
    "splitter = MarkdownTextSplitter(chunk_size=500, chunk_overlap=100)\n",
    "\n",
    "docs = splitter.create_documents([md_text])\n",
    "\n",
    "print(len(docs))\n",
    "# Join all document contents into one string\n",
    "all_text = \"\\n\\n---------XXXX----------\\n\\n\".join(doc.page_content for doc in docs)\n",
    "\n",
    "# Save to a single file\n",
    "output_file = f\"/home/steven/FYP/v2_LLM_OS/LLM/MD_DB/split_md_{sensor_name}.md\"\n",
    "with open(output_file, \"w\", encoding=\"utf-8\") as f:\n",
    "    f.write(all_text)\n",
    "\n"
   ]
  },
  {
   "cell_type": "code",
   "execution_count": 25,
   "metadata": {},
   "outputs": [
    {
     "name": "stdout",
     "output_type": "stream",
     "text": [
      "Vector DB found, loaded from local file\n"
     ]
    }
   ],
   "source": [
    "# Embed the datasheet chunks using FAISS\n",
    "#TODO: We might want to use multiple datasheets for the same sensor\n",
    "embeddings = OpenAIEmbeddings(\n",
    "    openai_api_key=os.getenv(\"OPENAI_API_KEY\"), \n",
    "    model=\"text-embedding-ada-002\"\n",
    ")\n",
    "\n",
    "vector_db_path = f\"/home/steven/FYP/v2_LLM_OS/LLM/Datasheet_Vector_DB/{sensor_name}\"\n",
    "if not os.path.exists(vector_db_path):\n",
    "    vector_db = FAISS.from_documents(docs, embeddings)\n",
    "    vector_db.save_local(vector_db_path)\n",
    "    print(\"Vector DB not found, created and saved a new Vector DB\")\n",
    "else:\n",
    "    vector_db = FAISS.load_local(vector_db_path, embeddings, allow_dangerous_deserialization=True)\n",
    "    print(\"Vector DB found, loaded from local file\")"
   ]
  },
  {
   "cell_type": "code",
   "execution_count": 26,
   "metadata": {},
   "outputs": [],
   "source": [
    "#Take 10 most similar chunks from the vector DB using cosine simlarity.\n",
    "retriever = vector_db.as_retriever(search_type=\"similarity\", search_kwargs={\"k\": 3})\n",
    "query = \"Initialize registers hexadecimal value\" \n",
    "\n",
    "retrieved_chunk = retriever.invoke(query)"
   ]
  },
  {
   "cell_type": "code",
   "execution_count": 27,
   "metadata": {},
   "outputs": [
    {
     "name": "stdout",
     "output_type": "stream",
     "text": [
      "Retrieved Chunk 1: |Col1|Col2|(See Section 5.3 “Summary of Power-on Default” for Power-on Defaults)|Col4|Col5|Col6|Col7|Col8|Col9|Col10|\n",
      "|---|---|---|---|---|---|---|---|---|---|\n",
      "|Register Pointer (Hex)|MSB/ LSB|Bit Assignment||||||||\n",
      "|||7|6|5|4|3|2|1|0|\n",
      "|0x00|MSB|0|0|0|0|0|0|0|0|\n",
      "||LSB|0|0|0|1|1|1|1|1|\n",
      "|0x01|MSB|0|0|0|0|0|Hysteresis||SHDN|\n",
      "||LSB|Crt Loc|Win Loc|Int Clr|Alt Stat|Alt Cnt|Alt Sel|Alt Pol|Alt Mod|\n",
      "|0x02|MSB|0|0|0|SIGN|27°C|26°C|25°C|24°C|\n",
      "||LSB|23°C|22°C|21°C|20°C|2-1°C|2-2°C|0|0|\n",
      "yes\n",
      "YES. Chunk is helpful, proceeding with the next steps\n",
      "Retrieved Chunk 2: |TABLE 5-3: POWER-ON RESET DEFAULTS|Col2|Col3|Col4|\n",
      "|---|---|---|---|\n",
      "|Registers||Default Register Data (Hexadecimal)|Power-Up Default Register Description|\n",
      "|Address (Hexadecimal)|Register Name|||\n",
      "|0x01|CONFIG|0x0000|Comparator Mode Active-Low Output Alert and Critical Output Output Disabled Alert Not Asserted Interrupt Cleared Alert Limits Unlocked Critical Limit Unlocked Continuous Conversion 0°C Hysteresis|\n",
      "|0x02|T UPPER|0x0000|0°C|\n",
      "|0x03|T LOWER|0x0000|0°C|\n",
      "|0x04|T CRIT|0x0000|0°C|\n",
      "yes\n",
      "YES. Chunk is helpful, proceeding with the next steps\n",
      "Retrieved Chunk 3: The revision begins with 0x00 (hex) for the first release,\n",
      "with the number being incremented as revised versions\n",
      "are released. REGISTER 5-6: DEVICE ID AND DEVICE REVISION – READ-ONLY ( → ADDRESS ‘0000 0111’b)\n",
      "\n",
      "R-0 R-0 R-0 R-0 R-0 R-1 R-0 R-0\n",
      "\n",
      "Device ID\n",
      "\n",
      "bit 15 bit 8\n",
      "\n",
      "R-0 R-0 R-0 R-0 R-0 R-0 R-0 R-0\n",
      "\n",
      "Device Revision\n",
      "\n",
      "bit 7 bit 0\n",
      "\n",
      "**Legend:**\n",
      "\n",
      "R = Readable bit W = Writable bit U = Unimplemented bit, read as ‘0’\n",
      "\n",
      "-n = Value at POR ‘1’ = Bit is set ‘0’ = Bit is cleared x = Bit is unknown\n",
      "yes\n",
      "YES. Chunk is helpful, proceeding with the next steps\n"
     ]
    }
   ],
   "source": [
    "# Iterate through the chunks. Ask the LLM if the chunk is helpful for answering the query. (Chunk validation)\n",
    "# How do I ask LLM if the chunk is helpful, if not mark the chunk as not helpful and retrieve the next chunk?\n",
    "validation_prompt = ChatPromptTemplate.from_template(\n",
    "    \"\"\"\n",
    "    You are an assistant that validates if a provided document chunk is helpful in answering the user's query.\n",
    "\n",
    "    QUERY:\n",
    "    {query}\n",
    "\n",
    "    CHUNK:\n",
    "    {chunk}\n",
    "\n",
    "    Is this chunk helpful for answering the query? Respond ONLY with 'Yes' or 'No'.\n",
    "    \"\"\"\n",
    ")\n",
    "\n",
    "validated_chunks = []\n",
    "\n",
    "# Inspect the retrieved chunks (optional, for debugging purposes)\n",
    "for idx, chunk in enumerate(retrieved_chunk):\n",
    "    print(f\"Retrieved Chunk {idx+1}: {chunk.page_content}\")\n",
    "    prompt = validation_prompt.format_messages(query=query, chunk=chunk.page_content)\n",
    "    # print(prompt)\n",
    "    response = model.invoke(prompt).content.strip().lower()\n",
    "    print(response)\n",
    "    if 'yes' in response:\n",
    "        validated_chunks.append(chunk)\n",
    "        print(\"YES. Chunk is helpful, proceeding with the next steps\")\n",
    "    else:\n",
    "        print(\"NO. Chunk not helpful, moving to next chunk\")\n",
    "        continue"
   ]
  },
  {
   "cell_type": "code",
   "execution_count": 28,
   "metadata": {},
   "outputs": [
    {
     "name": "stdout",
     "output_type": "stream",
     "text": [
      "Consolidated Chunks: 1. |Col1|Col2|(See Section 5.3 “Summary of Power-on Default” for Power-on Defaults)|Col4|Col5|Col6|Col7|Col8|Col9|Col10|\n",
      "|---|---|---|---|---|---|---|---|---|---|\n",
      "|Register Pointer (Hex)|MSB/ LSB|Bit Assignment||||||||\n",
      "|||7|6|5|4|3|2|1|0|\n",
      "|0x00|MSB|0|0|0|0|0|0|0|0|\n",
      "||LSB|0|0|0|1|1|1|1|1|\n",
      "|0x01|MSB|0|0|0|0|0|Hysteresis||SHDN|\n",
      "||LSB|Crt Loc|Win Loc|Int Clr|Alt Stat|Alt Cnt|Alt Sel|Alt Pol|Alt Mod|\n",
      "|0x02|MSB|0|0|0|SIGN|27°C|26°C|25°C|24°C|\n",
      "||LSB|23°C|22°C|21°C|20°C|2-1°C|2-2°C|0|0|\n",
      "2. |TABLE 5-3: POWER-ON RESET DEFAULTS|Col2|Col3|Col4|\n",
      "|---|---|---|---|\n",
      "|Registers||Default Register Data (Hexadecimal)|Power-Up Default Register Description|\n",
      "|Address (Hexadecimal)|Register Name|||\n",
      "|0x01|CONFIG|0x0000|Comparator Mode Active-Low Output Alert and Critical Output Output Disabled Alert Not Asserted Interrupt Cleared Alert Limits Unlocked Critical Limit Unlocked Continuous Conversion 0°C Hysteresis|\n",
      "|0x02|T UPPER|0x0000|0°C|\n",
      "|0x03|T LOWER|0x0000|0°C|\n",
      "|0x04|T CRIT|0x0000|0°C|\n",
      "3. The revision begins with 0x00 (hex) for the first release,\n",
      "with the number being incremented as revised versions\n",
      "are released. REGISTER 5-6: DEVICE ID AND DEVICE REVISION – READ-ONLY ( → ADDRESS ‘0000 0111’b)\n",
      "\n",
      "R-0 R-0 R-0 R-0 R-0 R-1 R-0 R-0\n",
      "\n",
      "Device ID\n",
      "\n",
      "bit 15 bit 8\n",
      "\n",
      "R-0 R-0 R-0 R-0 R-0 R-0 R-0 R-0\n",
      "\n",
      "Device Revision\n",
      "\n",
      "bit 7 bit 0\n",
      "\n",
      "**Legend:**\n",
      "\n",
      "R = Readable bit W = Writable bit U = Unimplemented bit, read as ‘0’\n",
      "\n",
      "-n = Value at POR ‘1’ = Bit is set ‘0’ = Bit is cleared x = Bit is unknown\n",
      "\n"
     ]
    }
   ],
   "source": [
    "# Consolidate the validated chunks\n",
    "consolidated_chunks = \"\"\n",
    "i = 1\n",
    "for chunk in validated_chunks:\n",
    "    consolidated_chunks += f\"{i}. {chunk.page_content}\\n\"\n",
    "    i += 1\n",
    "    \n",
    "print(f\"Consolidated Chunks: {consolidated_chunks}\")\n"
   ]
  },
  {
   "cell_type": "code",
   "execution_count": 29,
   "metadata": {},
   "outputs": [
    {
     "name": "stdout",
     "output_type": "stream",
     "text": [
      "Response: Below is the reasoning process and answer based on the MCP9808’s datasheet and the provided context.\n",
      "\n",
      "1. The raw context shows tables for registers with names like CONFIG, T UPPER, T LOWER, and T CRIT. These registers correspond to:\n",
      " • 0x01 – CONFIG register\n",
      " • 0x02 – Temperature upper limit register (T UPPER)\n",
      " • 0x03 – Temperature lower limit register (T LOWER)\n",
      " • 0x04 – Temperature critical register (T CRIT)\n",
      "\n",
      "2. The “POWER-ON RESET DEFAULTS” table tells us that when the device powers up (or after a reset):\n",
      " – CONFIG (0x01) is 0x0000. This default sets the sensor in continuous conversion mode with alert functions (comparator mode, open-drain output disabled, etc.) in a known “safe” state.\n",
      " – T UPPER (0x02), T LOWER (0x03), and T CRIT (0x04) all default to 0x0000, which in the context of temperature thresholds means they are initially set to 0°C.\n",
      "\n",
      "3. The MCP9808 is designed so that after a power-on, these registers are preset to their known default values. This ensures that in a basic temperature reading application (without using alert features) no additional “initialization” writes are required.\n",
      "\n",
      "4. Therefore, unless you need to change the behavior of the sensor – for example, to reconfigure the alert mode, change the hysteresis, or set custom temperature thresholds – you do not have to explicitly initialize (write to) these registers. The device “comes ready” with the configuration already set to 0x0000 in all these registers.\n",
      "\n",
      "5. In summary, the registers that might be affected during an init routine are:\n",
      " • The CONFIG register (0x01): Default 0x0000 (continuous conversion, alert disabled, etc.)\n",
      " • The temperature threshold registers (T UPPER 0x02, T LOWER 0x03, and T CRIT 0x04): Each defaulting to 0x0000.\n",
      " • The ambient temperature register (0x00) and device ID/revision registers (as mentioned) are read-only and already reflect proper values.\n",
      "\n",
      "6. Conclusion:\n",
      " • The MCP9808 powers up with its critical registers preset to these defaults. \n",
      " • Explicit register initialization is not needed unless you want to change the default alert behavior or temperature thresholds.\n",
      "\n",
      "So, when someone asks “what is the init or initialize registers of MCP9808?” the answer is that the MCP9808’s registers are pre‐initialized to the following defaults on power-up:\n",
      " – CONFIG (0x01): 0x0000\n",
      " – T UPPER (0x02): 0x0000\n",
      " – T LOWER (0x03): 0x0000\n",
      " – T CRIT (0x04): 0x0000\n",
      "\n",
      "And therefore, if you do not need to change the alert settings or threshold values, you don’t have to reconfigure them after power-on.\n"
     ]
    }
   ],
   "source": [
    "# Chain of Thought Reasoning LLM to extract the I2C address from the consolidated chunks\n",
    "# https://www.datacamp.com/tutorial/chain-of-thought-prompting\n",
    "\n",
    "prompt_i2c_template = ChatPromptTemplate.from_template(\n",
    "    \"\"\"\n",
    "    You are a helpful assistant and an expert in I2C Sensors.\n",
    "\n",
    "    Raw context:\n",
    "    {chunk}\n",
    "\n",
    "    From your knowledge, what is the init or initialize registers of {sensor_name}? Show me the reasoning process step by step and use your memory.\n",
    "    If it is not needed, please say so.\n",
    "    \"\"\"\n",
    ")\n",
    "\n",
    "prompt_i2c = prompt_i2c_template.format_messages(\n",
    "    chunk=consolidated_chunks,\n",
    "    sensor_name=sensor_name\n",
    ")\n",
    "\n",
    "response = model.invoke(prompt_i2c).content.strip()\n",
    "print(f\"Response: {response}\")\n",
    "\n",
    "# The context is correct. The output is wrong, but in chatgpt website, the output is correct.\n",
    "# Maybe they are using reasoning and chain of thought which might be super helpful."
   ]
  },
  {
   "cell_type": "code",
   "execution_count": 30,
   "metadata": {},
   "outputs": [
    {
     "name": "stdout",
     "output_type": "stream",
     "text": [
      "Response: Since the MCP9808’s essential registers are preset to their default values (0x0000) at power-up, there is no need to explicitly write any initialization values if you are using it in its default mode. \n",
      "\n",
      "The hexadecimal values are: INOP.\n"
     ]
    }
   ],
   "source": [
    "prompt_i2c_feedback_template = ChatPromptTemplate.from_template(\n",
    "    \"\"\"\n",
    "    You are a helpful assistant and an expert in I2C Sensors.\n",
    "\n",
    "    My expert told me:\n",
    "    {i2c_CoT_response}\n",
    "\n",
    "    What are the hexadecimal values to write to the i2c address to initialize the {sensor_name} sensor?\n",
    "    If it is not needed, output \"INOP\".\n",
    "    Finish the sentence, the hexadecimal values are:\n",
    "    \"\"\"\n",
    ")\n",
    "\n",
    "prompt_i2c_feedback = prompt_i2c_feedback_template.format_messages(\n",
    "    i2c_CoT_response=response,\n",
    "    sensor_name=sensor_name\n",
    ")\n",
    "i2c_feedback_response = model.invoke(prompt_i2c_feedback).content.strip()\n",
    "print(f\"Response: {i2c_feedback_response}\")"
   ]
  },
  {
   "cell_type": "code",
   "execution_count": 31,
   "metadata": {},
   "outputs": [
    {
     "name": "stdout",
     "output_type": "stream",
     "text": [
      "No initialization needed\n"
     ]
    }
   ],
   "source": [
    "if \"INOP\" in i2c_feedback_response:\n",
    "    print(\"No initialization needed\")\n",
    "else:\n",
    "    prompt_i2c_cleanup_template = ChatPromptTemplate.from_template(\n",
    "        \"\"\"\n",
    "        You are a helpful assistant and hexadecimal values extractor.\n",
    "\n",
    "        My expert told me:\n",
    "        {i2c_feedback_response}\n",
    "\n",
    "        Extract only the hexadecimal values separated by commas.\n",
    "        \"\"\"\n",
    "    )\n",
    "    prompt_i2c_cleanup = prompt_i2c_cleanup_template.format_messages(\n",
    "        i2c_feedback_response=i2c_feedback_response\n",
    "    )\n",
    "    i2c_cleanup_response = model.invoke(prompt_i2c_cleanup).content.strip()\n",
    "    print(f\"Response: {i2c_cleanup_response}\")"
   ]
  }
 ],
 "metadata": {
  "kernelspec": {
   "display_name": "venv",
   "language": "python",
   "name": "python3"
  },
  "language_info": {
   "codemirror_mode": {
    "name": "ipython",
    "version": 3
   },
   "file_extension": ".py",
   "mimetype": "text/x-python",
   "name": "python",
   "nbconvert_exporter": "python",
   "pygments_lexer": "ipython3",
   "version": "3.10.12"
  }
 },
 "nbformat": 4,
 "nbformat_minor": 2
}
