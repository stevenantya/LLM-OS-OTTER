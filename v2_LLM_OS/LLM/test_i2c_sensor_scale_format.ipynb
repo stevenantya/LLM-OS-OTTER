{
 "cells": [
  {
   "cell_type": "code",
   "execution_count": null,
   "metadata": {},
   "outputs": [],
   "source": [
    "# Imports\n",
    "from langchain_community.vectorstores import FAISS\n",
    "from langchain_openai import OpenAIEmbeddings\n",
    "from langchain.chains import create_retrieval_chain\n",
    "from langchain_openai import ChatOpenAI\n",
    "from langchain.chains.combine_documents import create_stuff_documents_chain\n",
    "from langchain_core.prompts import ChatPromptTemplate\n",
    "from  langchain_community.document_loaders import PyMuPDFLoader\n",
    "from langchain.text_splitter import RecursiveCharacterTextSplitter\n",
    "import getpass\n",
    "import os\n",
    "from dotenv import load_dotenv\n",
    "from langchain.chat_models import init_chat_model\n",
    "from langchain_core.messages import HumanMessage, SystemMessage\n",
    "from duckduckgo_search import DDGS\n",
    "import requests\n",
    "import streamlit as st\n",
    "import pymupdf\n",
    "\n",
    "import logging\n",
    "# Set up logging configuration\n",
    "logging.basicConfig(\n",
    "    level=logging.WARNING,\n",
    "    format='%(asctime)s - %(levelname)s - %(message)s',\n",
    "    handlers=[\n",
    "        logging.FileHandler('partition_pdf.log'),  # write logs to partition_pdf.log file\n",
    "        logging.StreamHandler()                    # also print logs to console\n",
    "    ]\n",
    ")\n",
    "\n",
    "load_dotenv()\n",
    "if not os.environ.get(\"OPENAI_API_KEY\"):\n",
    "    os.environ[\"OPENAI_API_KEY\"] = getpass.getpass(\"Enter your OpenAI API Key: \")\n",
    "model = init_chat_model(\"o3-mini\", model_provider=\"openai\")\n",
    "\n"
   ]
  },
  {
   "cell_type": "code",
   "execution_count": 1,
   "metadata": {},
   "outputs": [],
   "source": [
    "sensor_name = \"MCP9808\"\n",
    "sensor_data_key_val = \"(temperature)\"\n",
    "data_size = \"2\"\n",
    "\n",
    "# sensor_name = \"AHT20\"\n",
    "# sensor_data_key_val = \"(humidity, temperature)\"\n",
    "# data_size = \"6\"\n",
    "\n"
   ]
  },
  {
   "cell_type": "code",
   "execution_count": 2,
   "metadata": {},
   "outputs": [
    {
     "ename": "NameError",
     "evalue": "name 'DDGS' is not defined",
     "output_type": "error",
     "traceback": [
      "\u001b[0;31m---------------------------------------------------------------------------\u001b[0m",
      "\u001b[0;31mNameError\u001b[0m                                 Traceback (most recent call last)",
      "Cell \u001b[0;32mIn[2], line 4\u001b[0m\n\u001b[1;32m      1\u001b[0m \u001b[38;5;66;03m# Find and download sensor datasheet\u001b[39;00m\n\u001b[1;32m      3\u001b[0m search_query \u001b[38;5;241m=\u001b[39m \u001b[38;5;124mf\u001b[39m\u001b[38;5;124m\"\u001b[39m\u001b[38;5;132;01m{\u001b[39;00msensor_name\u001b[38;5;132;01m}\u001b[39;00m\u001b[38;5;124m datasheet filetype:pdf\u001b[39m\u001b[38;5;124m\"\u001b[39m\n\u001b[0;32m----> 4\u001b[0m search_results \u001b[38;5;241m=\u001b[39m \u001b[43mDDGS\u001b[49m()\u001b[38;5;241m.\u001b[39mtext(search_query)\n\u001b[1;32m      5\u001b[0m \u001b[38;5;28;01mif\u001b[39;00m search_results:\n\u001b[1;32m      6\u001b[0m     datasheet_url \u001b[38;5;241m=\u001b[39m search_results[\u001b[38;5;241m0\u001b[39m][\u001b[38;5;124m'\u001b[39m\u001b[38;5;124mhref\u001b[39m\u001b[38;5;124m'\u001b[39m]\n",
      "\u001b[0;31mNameError\u001b[0m: name 'DDGS' is not defined"
     ]
    }
   ],
   "source": [
    "# Find and download sensor datasheet\n",
    "\n",
    "search_query = f\"{sensor_name} datasheet filetype:pdf\"\n",
    "search_results = DDGS().text(search_query)\n",
    "if search_results:\n",
    "    datasheet_url = search_results[0]['href']\n",
    "    print(f\"Datasheet URL: {datasheet_url}\")\n",
    "    print(\"Downloading datasheet...\")\n",
    "    response = requests.get(datasheet_url)\n",
    "    if response.status_code == 200:\n",
    "        if not os.path.exists(f\"/home/steven/FYP/v2_LLM_OS/LLM/Datasheet_DB/{sensor_name}.pdf\"):     \n",
    "            with open(f\"/home/steven/FYP/v2_LLM_OS/LLM/Datasheet_DB/{sensor_name}.pdf\", \"wb\") as file:\n",
    "                for chunk in response.iter_content(1024):\n",
    "                    file.write(chunk)\n",
    "            print(\"Datasheet downloaded!\")\n",
    "        else:\n",
    "            print(\"Datasheet already exists in the database.\")\n",
    "    print(\"Loading datasheet...\")\n",
    "    datasheet_path = f\"/home/steven/FYP/v2_LLM_OS/LLM/Datasheet_DB/{sensor_name}.pdf\"\n",
    "    print(\"Datasheet loaded!\")\n",
    "else:\n",
    "    print(\"No datasheet found for this I2C sensor.\")"
   ]
  },
  {
   "cell_type": "code",
   "execution_count": null,
   "metadata": {},
   "outputs": [
    {
     "name": "stdout",
     "output_type": "stream",
     "text": [
      "Datasheet partition exists. Loaded from local file\n",
      "60\n"
     ]
    }
   ],
   "source": [
    "# Load and partition the datasheet into elements\n",
    "# 5 levels of partitioning\n",
    "import pymupdf4llm\n",
    "import pathlib\n",
    "from langchain_text_splitters import RecursiveCharacterTextSplitter, MarkdownTextSplitter\n",
    "from langchain_community.document_loaders import UnstructuredMarkdownLoader\n",
    "from langchain_core.documents import Document\n",
    "\n",
    "md_path = f\"/home/steven/FYP/v2_LLM_OS/LLM/MD_DB/md_{sensor_name}.md\"\n",
    "if not os.path.exists(md_path):\n",
    "    md_text = pymupdf4llm.to_markdown(datasheet_path)\n",
    "    pathlib.Path(md_path).write_bytes(md_text.encode())\n",
    "    print(\"Datasheet Partition does not exist. Created a new parition\")\n",
    "else:\n",
    "    md_text = pathlib.Path(md_path).read_text()\n",
    "    print(\"Datasheet partition exists. Loaded from local file\")\n",
    "\n",
    "splitter = MarkdownTextSplitter(chunk_size=500, chunk_overlap=100)\n",
    "\n",
    "docs = splitter.create_documents([md_text])\n",
    "\n",
    "print(len(docs))\n",
    "# Join all document contents into one string\n",
    "all_text = \"\\n\\n---------XXXX----------\\n\\n\".join(doc.page_content for doc in docs)\n",
    "\n",
    "# Save to a single file\n",
    "output_file = f\"/home/steven/FYP/v2_LLM_OS/LLM/MD_DB/split_md_{sensor_name}.md\"\n",
    "with open(output_file, \"w\", encoding=\"utf-8\") as f:\n",
    "    f.write(all_text)\n",
    "\n"
   ]
  },
  {
   "cell_type": "code",
   "execution_count": null,
   "metadata": {},
   "outputs": [
    {
     "name": "stdout",
     "output_type": "stream",
     "text": [
      "Vector DB found, loaded from local file\n"
     ]
    }
   ],
   "source": [
    "# Embed the datasheet chunks using FAISS\n",
    "#TODO: We might want to use multiple datasheets for the same sensor\n",
    "embeddings = OpenAIEmbeddings(\n",
    "    openai_api_key=os.getenv(\"OPENAI_API_KEY\"), \n",
    "    model=\"text-embedding-ada-002\"\n",
    ")\n",
    "\n",
    "vector_db_path = f\"/home/steven/FYP/v2_LLM_OS/LLM/Datasheet_Vector_DB/{sensor_name}\"\n",
    "if not os.path.exists(vector_db_path):\n",
    "    vector_db = FAISS.from_documents(docs, embeddings)\n",
    "    vector_db.save_local(vector_db_path)\n",
    "    print(\"Vector DB not found, created and saved a new Vector DB\")\n",
    "else:\n",
    "    vector_db = FAISS.load_local(vector_db_path, embeddings, allow_dangerous_deserialization=True)\n",
    "    print(\"Vector DB found, loaded from local file\")"
   ]
  },
  {
   "cell_type": "code",
   "execution_count": null,
   "metadata": {},
   "outputs": [],
   "source": [
    "#Take 10 most similar chunks from the vector DB using cosine simlarity.\n",
    "retriever = vector_db.as_retriever(search_type=\"similarity\", search_kwargs={\"k\": 3})\n",
    "query = \"Formula to convert raw sensor data to measurement units\"\n",
    "# Response: humidity: [8:15, 16:23, 24:27], temperature: [28:31, 32:39, 40:47]\n",
    "# ['humidity: [8:27]', 'temperature: [28:47]']\n",
    "retrieved_chunk = retriever.invoke(query)"
   ]
  },
  {
   "cell_type": "code",
   "execution_count": null,
   "metadata": {},
   "outputs": [
    {
     "name": "stdout",
     "output_type": "stream",
     "text": [
      "Retrieved Chunk 1: 5. Calculate the temperature and humidity values.\n",
      "\n",
      "Note: The calibration status check in the first step\n",
      "only needs to be checked at power-on. No operation\n",
      "is required during the normal acquisition process.\n",
      "\n",
      "Trigger measurement data\n",
      "\n",
      "|Col1|Col2|Col3|Col4|Col5|Col6|Col7|Col8|Col9|Col10|Col11|Col12|Col13|Col14|Col15|Col16|Col17|Col18|Col19|\n",
      "|---|---|---|---|---|---|---|---|---|---|---|---|---|---|---|---|---|---|---|\n",
      "||I²C address + write|||||||||Trigger measurement 0xAC|||||||||\n",
      "no\n",
      "NO. Chunk not helpful, moving to next chunk\n",
      "Retrieved Chunk 2: Table 11 Soft Reset– The grey part is controlled by AHT20. 6.1 Relative humidity transformation\n",
      "\n",
      "Relative humidity RH can be calculated according to\n",
      "the relative humidity signal SRH output from SDA by\n",
      "the following equation.\n",
      "(The result is expressed in% RH) 6.2 Temperature transformation\n",
      "\n",
      "Temperature T can be calculated by substituting the\n",
      "temperature output signal ST into the following formula.\n",
      "(The results are expressed as temperature ℃ T)\n",
      "yes\n",
      "YES. Chunk is helpful, proceeding with the next steps\n",
      "Retrieved Chunk 3: 1.1\n",
      "\n",
      "\n",
      "4/11\n",
      "\n",
      "\n",
      "-----\n",
      "\n",
      "AHT20 Product manuals\n",
      "\n",
      "Therefore, it is recommended that the sensor be\n",
      "stored in the original package including sealed ESD\n",
      "bag, and meet the following conditions: temperature\n",
      "range 10~50℃（0~85℃ in a limited time), humidity\n",
      "20~60% RH(no ESD packaged sensor). For sensors\n",
      "that they be stored in antistatic bags made of metal\n",
      "PET/AL/CPE.\n",
      "no\n",
      "NO. Chunk not helpful, moving to next chunk\n"
     ]
    }
   ],
   "source": [
    "# Iterate through the chunks. Ask the LLM if the chunk is helpful for answering the query. (Chunk validation)\n",
    "# How do I ask LLM if the chunk is helpful, if not mark the chunk as not helpful and retrieve the next chunk?\n",
    "validation_prompt = ChatPromptTemplate.from_template(\n",
    "    \"\"\"\n",
    "    You are an assistant that validates if a provided document chunk is helpful in answering the user's query.\n",
    "\n",
    "    QUERY:\n",
    "    {query}\n",
    "\n",
    "    CHUNK:\n",
    "    {chunk}\n",
    "\n",
    "    Is this chunk helpful for answering the query? Respond ONLY with 'Yes' or 'No'.\n",
    "    \"\"\"\n",
    ")\n",
    "\n",
    "validated_chunks = []\n",
    "\n",
    "# Inspect the retrieved chunks (optional, for debugging purposes)\n",
    "for idx, chunk in enumerate(retrieved_chunk):\n",
    "    print(f\"Retrieved Chunk {idx+1}: {chunk.page_content}\")\n",
    "    prompt = validation_prompt.format_messages(query=query, chunk=chunk.page_content)\n",
    "    # print(prompt)\n",
    "    response = model.invoke(prompt).content.strip().lower()\n",
    "    print(response)\n",
    "    if 'yes' in response:\n",
    "        validated_chunks.append(chunk)\n",
    "        print(\"YES. Chunk is helpful, proceeding with the next steps\")\n",
    "    else:\n",
    "        print(\"NO. Chunk not helpful, moving to next chunk\")\n",
    "        continue"
   ]
  },
  {
   "cell_type": "code",
   "execution_count": null,
   "metadata": {},
   "outputs": [
    {
     "name": "stdout",
     "output_type": "stream",
     "text": [
      "Consolidated Chunks: 1. Table 11 Soft Reset– The grey part is controlled by AHT20. 6.1 Relative humidity transformation\n",
      "\n",
      "Relative humidity RH can be calculated according to\n",
      "the relative humidity signal SRH output from SDA by\n",
      "the following equation.\n",
      "(The result is expressed in% RH) 6.2 Temperature transformation\n",
      "\n",
      "Temperature T can be calculated by substituting the\n",
      "temperature output signal ST into the following formula.\n",
      "(The results are expressed as temperature ℃ T)\n",
      "\n"
     ]
    }
   ],
   "source": [
    "# Consolidate the validated chunks\n",
    "consolidated_chunks = \"\"\n",
    "i = 1\n",
    "for chunk in validated_chunks:\n",
    "    consolidated_chunks += f\"{i}. {chunk.page_content}\\n\"\n",
    "    i += 1\n",
    "    \n",
    "print(f\"Consolidated Chunks: {consolidated_chunks}\")\n"
   ]
  },
  {
   "cell_type": "code",
   "execution_count": null,
   "metadata": {},
   "outputs": [
    {
     "name": "stdout",
     "output_type": "stream",
     "text": [
      "Response: The AHT20 outputs a 20‐bit value for each measurement. That is, the sensor uses 2^20 = 1,048,576 steps for its full scale. In common practice, the conversion formulas are:\n",
      "\n",
      " • Relative Humidity (%RH) = (x * 100.0) / 1,048,576.0  \n",
      " • Temperature (°C) = ((x * 200.0) / 1,048,576.0) - 50.0\n",
      "\n",
      "Here’s the reasoning step by step:\n",
      "\n",
      "1. The sensor provides 20 bits of data, so the maximum value is 1,048,575. To obtain a normalized value, you divide by 1,048,576 (which represents the total number of distinct values).\n",
      "\n",
      "2. For relative humidity, multiplying by 100 converts the normalized fraction into a percentage:\n",
      "  RH = (x / 1,048,576) * 100\n",
      "\n",
      "3. For temperature, the sensor’s range is 200°C wide (from -50°C to +150°C). Multiplying the normalized value by 200 gives the span, and then subtracting 50 shifts the range to the correct offset:\n",
      "  T = (x / 1,048,576) * 200 - 50\n",
      "\n",
      "In these formulas we use only the variable x (the raw uint32_t value) along with allowed arithmetic operations.\n"
     ]
    }
   ],
   "source": [
    "# Chain of Thought Reasoning LLM to extract the I2C address from the consolidated chunks\n",
    "# https://www.datacamp.com/tutorial/chain-of-thought-prompting\n",
    "# We might want to iterate through all the sensor_data_key_val and find the formula for each of them\n",
    "# I have extracted the parameters into a uint32_t. Now I need to convert the raw data into measurement units.\n",
    "prompt_i2c_template = ChatPromptTemplate.from_template(\n",
    "    \"\"\"\n",
    "    You are a helpful assistant and an expert in I2C sensors.\n",
    "\n",
    "    Raw context (might be inaccurate):\n",
    "    {chunk}\n",
    "\n",
    "    Create a MATH formula to convert the {sensor_name} data into measurement units.\n",
    "\n",
    "    Rules:\n",
    "    1. I have extracted each {sensor_data_key_val} into uint32_t. We call this variable x.\n",
    "    2. Valid operators are: arithmetic and bitwise operators and modulo.\n",
    "    3. DO NOT use IF statements.\n",
    "    4. Use decimal or float numbers. Do not use hex or binary numbers.\n",
    "    ONLY use x as variable. From your knowledge, explain your reasoning step by step.\n",
    "\n",
    "    \"\"\"\n",
    ")\n",
    "\n",
    "prompt_i2c = prompt_i2c_template.format_messages(\n",
    "    chunk=consolidated_chunks,\n",
    "    sensor_name=sensor_name,\n",
    "    sensor_data_key_val = sensor_data_key_val,\n",
    "    size = data_size,\n",
    ")\n",
    "\n",
    "CoT_response = model.invoke(prompt_i2c).content.strip()\n",
    "print(f\"Response: {CoT_response}\")\n",
    "\n",
    "# The context is correct. The output is wrong, but in chatgpt website, the output is correct.\n",
    "# Maybe they are using reasoning and chain of thought which might be super helpful."
   ]
  },
  {
   "cell_type": "code",
   "execution_count": null,
   "metadata": {},
   "outputs": [
    {
     "name": "stdout",
     "output_type": "stream",
     "text": [
      "Response: For relative humidity, the conversion formula is:\n",
      "  RH = (X * 100.0) / 1048576.0\n",
      "In Reverse Polish Notation, you can express this as:\n",
      "\n",
      "  X 100.0 * 1048576.0 /\n",
      "\n",
      "For temperature, the conversion formula is:\n",
      "  T = ((X * 200.0) / 1048576.0) - 50.0\n",
      "In Reverse Polish Notation, this becomes:\n",
      "\n",
      "  X 200.0 * 1048576.0 / 50.0 -\n",
      "\n",
      "These two RPN expressions use the raw data value X along with the arithmetic operations required for each conversion.\n"
     ]
    }
   ],
   "source": [
    "prompt_i2c_feedback_template = ChatPromptTemplate.from_template(\n",
    "    \"\"\"\n",
    "    You are a helpful assistant and an expert in I2C Sensors.\n",
    "\n",
    "    My expert told me:\n",
    "    {i2c_CoT_response}\n",
    "\n",
    "    Please provide the reverse polish notation for the conversion formula.\n",
    "    Represent the raw_data as X.\n",
    "    Provide one reverse polish notation for each parameter: {sensor_data_key_val}.\n",
    "    \"\"\"\n",
    ")\n",
    "\n",
    "prompt_i2c_feedback = prompt_i2c_feedback_template.format_messages(\n",
    "    i2c_CoT_response=CoT_response,\n",
    "    sensor_name=sensor_name,\n",
    "    sensor_data_key_val = sensor_data_key_val\n",
    ")\n",
    "i2c_feedback_response = model.invoke(prompt_i2c_feedback).content.strip()\n",
    "print(f\"Response: {i2c_feedback_response}\")"
   ]
  },
  {
   "cell_type": "code",
   "execution_count": null,
   "metadata": {},
   "outputs": [
    {
     "name": "stdout",
     "output_type": "stream",
     "text": [
      "(humidity: \"X 100.0 * 1048576.0 /\", temperature: \"X 200.0 * 1048576.0 / 50.0 -\")\n"
     ]
    }
   ],
   "source": [
    "import re\n",
    "\n",
    "prompt_i2c_cleanup_template = ChatPromptTemplate.from_template(\n",
    "    \"\"\"\n",
    "    You are a helpful assistant and an expert in I2C Sensors.\n",
    "\n",
    "    My expert told me:\n",
    "    {i2c_feedback_response}\n",
    "\n",
    "    X is the raw data. For each parameter from {sensor_data_key_val}, please arrange it as follows:\n",
    "    ONLY FILL IN the sentence, the measurement values are arranged as: (parameter1: \"reverse_polish_notation1\", parameter2: \"reverse_polish_notation1\", ...)\n",
    "    \"\"\"\n",
    ")\n",
    "prompt_i2c_cleanup = prompt_i2c_cleanup_template.format_messages(\n",
    "    i2c_feedback_response=i2c_feedback_response,\n",
    "    sensor_data_key_val = sensor_data_key_val\n",
    ")\n",
    "i2c_cleanup_response = model.invoke(prompt_i2c_cleanup).content.strip()\n",
    "print(i2c_cleanup_response)\n"
   ]
  },
  {
   "cell_type": "code",
   "execution_count": null,
   "metadata": {},
   "outputs": [
    {
     "name": "stdout",
     "output_type": "stream",
     "text": [
      "Response: humidity: \"X 100.0 * 1048576.0 /\", temperature: \"X 200.0 * 1048576.0 / 50.0 -\"\n"
     ]
    }
   ],
   "source": [
    "# Extract only content within parentheses\n",
    "\n",
    "matches = re.findall(r'\\((.*?)\\)', i2c_cleanup_response)\n",
    "\n",
    "extracted_content = matches[0] if matches else \"\"\n",
    "\n",
    "print(f\"Response: {extracted_content}\")"
   ]
  }
 ],
 "metadata": {
  "kernelspec": {
   "display_name": "venv",
   "language": "python",
   "name": "python3"
  },
  "language_info": {
   "codemirror_mode": {
    "name": "ipython",
    "version": 3
   },
   "file_extension": ".py",
   "mimetype": "text/x-python",
   "name": "python",
   "nbconvert_exporter": "python",
   "pygments_lexer": "ipython3",
   "version": "3.10.12"
  }
 },
 "nbformat": 4,
 "nbformat_minor": 2
}
